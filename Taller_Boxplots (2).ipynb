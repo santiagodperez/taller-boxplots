{
  "cells": [
    {
      "cell_type": "code",
      "execution_count": null,
      "id": "3ec117bb",
      "metadata": {
        "id": "3ec117bb"
      },
      "outputs": [],
      "source": [
        "import pandas as pd\n",
        "import seaborn as sns\n",
        "import matplotlib.pyplot as plt\n",
        "import numpy as np\n",
        "\n",
        "# Configuración gráfica\n",
        "sns.set(style='whitegrid')"
      ]
    },
    {
      "cell_type": "code",
      "execution_count": null,
      "id": "e1e68d97",
      "metadata": {
        "id": "e1e68d97"
      },
      "outputs": [],
      "source": [
        "# Cargar el dataset (asegúrate de tener StudentsPerformance.csv en tu entorno)\n",
        "df = pd.read_csv(\"StudentsPerformance.csv\")\n",
        "df.head()"
      ]
    },
    {
      "cell_type": "markdown",
      "id": "9866672a",
      "metadata": {
        "id": "9866672a"
      },
      "source": [
        "## Reto 1: Boxplot para `writing score` agrupado por `race/ethnicity`"
      ]
    },
    {
      "cell_type": "code",
      "execution_count": null,
      "id": "7a0b037d",
      "metadata": {
        "id": "7a0b037d"
      },
      "outputs": [],
      "source": [
        "plt.figure(figsize=(8, 6))\n",
        "sns.boxplot(x=\"race/ethnicity\", y=\"writing score\", data=df)\n",
        "plt.title(\"Writing Score por Grupo Étnico\")\n",
        "plt.xlabel(\"Grupo Étnico\")\n",
        "plt.ylabel(\"Writing Score\")\n",
        "plt.grid(True)\n",
        "plt.show()"
      ]
    },
    {
      "cell_type": "markdown",
      "id": "f6ddaa03",
      "metadata": {
        "id": "f6ddaa03"
      },
      "source": [
        "## Reto 2: Añadir la variable `lunch` como hue e interpretar"
      ]
    },
    {
      "cell_type": "code",
      "execution_count": null,
      "id": "f1887c7f",
      "metadata": {
        "id": "f1887c7f"
      },
      "outputs": [],
      "source": [
        "plt.figure(figsize=(10, 6))\n",
        "sns.boxplot(x=\"race/ethnicity\", y=\"writing score\", hue=\"lunch\", data=df)\n",
        "plt.title(\"Writing Score por Grupo Étnico y Tipo de Almuerzo\")\n",
        "plt.xlabel(\"Grupo Étnico\")\n",
        "plt.ylabel(\"Writing Score\")\n",
        "plt.legend(title=\"Lunch\")\n",
        "plt.grid(True)\n",
        "plt.show()"
      ]
    },
    {
      "cell_type": "markdown",
      "id": "edd9f4cb",
      "metadata": {
        "id": "edd9f4cb"
      },
      "source": [
        "## Reto 3: Boxplots agrupados por `parental level of education`"
      ]
    },
    {
      "cell_type": "code",
      "execution_count": null,
      "id": "bf3c7abb",
      "metadata": {
        "id": "bf3c7abb"
      },
      "outputs": [],
      "source": [
        "df['total score'] = df['math score'] + df['reading score'] + df['writing score']\n",
        "\n",
        "fig, axes = plt.subplots(2, 2, figsize=(16, 10))\n",
        "sns.boxplot(x='parental level of education', y='math score', data=df, ax=axes[0, 0])\n",
        "axes[0, 0].set_title('Math Score')\n",
        "sns.boxplot(x='parental level of education', y='reading score', data=df, ax=axes[0, 1])\n",
        "axes[0, 1].set_title('Reading Score')\n",
        "sns.boxplot(x='parental level of education', y='writing score', data=df, ax=axes[1, 0])\n",
        "axes[1, 0].set_title('Writing Score')\n",
        "sns.boxplot(x='parental level of education', y='total score', data=df, ax=axes[1, 1])\n",
        "axes[1, 1].set_title('Total Score')\n",
        "for ax in axes.flatten():\n",
        "    ax.set_xticklabels(ax.get_xticklabels(), rotation=45, ha='right')\n",
        "plt.tight_layout()\n",
        "plt.show()"
      ]
    },
    {
      "cell_type": "markdown",
      "id": "7d5644f5",
      "metadata": {
        "id": "7d5644f5"
      },
      "source": [
        "## Reto 4: Agregar anotaciones de valores máximo y mínimo"
      ]
    },
    {
      "cell_type": "code",
      "execution_count": null,
      "id": "f2a91ad0",
      "metadata": {
        "id": "f2a91ad0"
      },
      "outputs": [],
      "source": [
        "plt.figure(figsize=(8, 6))\n",
        "box = sns.boxplot(x='writing score', data=df, orient='h')\n",
        "min_val = df['writing score'].min()\n",
        "max_val = df['writing score'].max()\n",
        "plt.text(min_val, 0, f\"Min: {min_val}\", verticalalignment='center', color='blue')\n",
        "plt.text(max_val, 0, f\"Max: {max_val}\", verticalalignment='center', color='red')\n",
        "plt.title(\"Writing Score con Anotaciones de Máximo y Mínimo\")\n",
        "plt.show()"
      ]
    },
    {
      "cell_type": "markdown",
      "id": "77af5958",
      "metadata": {
        "id": "77af5958"
      },
      "source": [
        "## Reto 5: Filtrar estudiantes que completaron el curso preparatorio"
      ]
    },
    {
      "cell_type": "code",
      "execution_count": null,
      "id": "ec946ea5",
      "metadata": {
        "id": "ec946ea5"
      },
      "outputs": [],
      "source": [
        "df_prepared = df[df['test preparation course'] == 'completed']\n",
        "plt.figure(figsize=(8, 6))\n",
        "sns.boxplot(x='gender', y='math score', data=df_prepared)\n",
        "plt.title('Math Score por Género (Curso Completado)')\n",
        "plt.show()"
      ]
    },
    {
      "cell_type": "markdown",
      "id": "291b14f5",
      "metadata": {
        "id": "291b14f5"
      },
      "source": [
        "## Reto 6: Comparar estilos seaborn `darkgrid` vs `whitegrid`"
      ]
    },
    {
      "cell_type": "code",
      "execution_count": null,
      "id": "58649770",
      "metadata": {
        "id": "58649770"
      },
      "outputs": [],
      "source": [
        "# Estilo darkgrid\n",
        "sns.set_style(\"darkgrid\")\n",
        "plt.figure(figsize=(8, 6))\n",
        "sns.boxplot(x='gender', y='reading score', data=df)\n",
        "plt.title(\"Darkgrid Style\")\n",
        "plt.show()\n",
        "\n",
        "# Estilo whitegrid\n",
        "sns.set_style(\"whitegrid\")\n",
        "plt.figure(figsize=(8, 6))\n",
        "sns.boxplot(x='gender', y='reading score', data=df)\n",
        "plt.title(\"Whitegrid Style\")\n",
        "plt.show()"
      ]
    },
    {
      "cell_type": "markdown",
      "id": "a1e47109",
      "metadata": {
        "id": "a1e47109"
      },
      "source": [
        "## Reto 7: Calcular IQR manualmente y comparar con los bigotes"
      ]
    },
    {
      "cell_type": "code",
      "execution_count": null,
      "id": "f599d93d",
      "metadata": {
        "id": "f599d93d"
      },
      "outputs": [],
      "source": [
        "q1 = df['math score'].quantile(0.25)\n",
        "q3 = df['math score'].quantile(0.75)\n",
        "iqr = q3 - q1\n",
        "lower_bound = q1 - 1.5 * iqr\n",
        "upper_bound = q3 + 1.5 * iqr\n",
        "\n",
        "print(f\"IQR: {iqr:.2f}\")\n",
        "print(f\"Límite inferior: {lower_bound:.2f}\")\n",
        "print(f\"Límite superior: {upper_bound:.2f}\")\n",
        "\n",
        "plt.figure(figsize=(8, 6))\n",
        "sns.boxplot(x=df['math score'], orient='h')\n",
        "plt.title(\"IQR de Math Score\")\n",
        "plt.show()"
      ]
    }
  ],
  "metadata": {
    "colab": {
      "provenance": []
    },
    "language_info": {
      "name": "python"
    },
    "kernelspec": {
      "name": "python3",
      "display_name": "Python 3"
    }
  },
  "nbformat": 4,
  "nbformat_minor": 5
}